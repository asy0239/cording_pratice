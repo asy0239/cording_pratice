{
 "cells": [
  {
   "cell_type": "markdown",
   "metadata": {},
   "source": [
    "# Asterisk\n",
    "\n",
    "- 흔히 말하는 *를 말함\n",
    "- 단순 곱셈 , 제곱 연산, 가변 인자 활용 등으로 다양하게 사용"
   ]
  },
  {
   "cell_type": "markdown",
   "metadata": {},
   "source": [
    "## Asterisk - unpacking a container"
   ]
  },
  {
   "cell_type": "code",
   "execution_count": 3,
   "metadata": {},
   "outputs": [
    {
     "name": "stdout",
     "output_type": "stream",
     "text": [
      "1 (2, 3, 4, 5)\n",
      "<class 'tuple'>\n"
     ]
    }
   ],
   "source": [
    "def asterisk_test(a, *args):\n",
    "    print(a, args)\n",
    "    print(type(args))\n",
    "    \n",
    "asterisk_test(1,2,3,4,5) # 튜플로 저장됨, a 가 들어가고 나머지 값들이 모두 들어감, 가변 인자라고 불림"
   ]
  },
  {
   "cell_type": "code",
   "execution_count": 17,
   "metadata": {},
   "outputs": [
    {
     "name": "stdout",
     "output_type": "stream",
     "text": [
      "1 {'d': 1, 'b': 2, 'c': 3}\n",
      "<class 'dict'>\n"
     ]
    },
    {
     "data": {
      "text/plain": [
       "{'d': 1, 'b': 2, 'c': 3}"
      ]
     },
     "execution_count": 17,
     "metadata": {},
     "output_type": "execute_result"
    }
   ],
   "source": [
    "def asterisk_test(a, **kargs):\n",
    "    print(a,kargs)\n",
    "    print(type(kargs))\n",
    "    return kargs\n",
    "    \n",
    "asterisk_test(1,d=1,b=2,c=3) # 딕트로 저장됨, 키워드 값들을 넣을 수 있음, 키워드 인자라고 불림"
   ]
  },
  {
   "cell_type": "code",
   "execution_count": 29,
   "metadata": {},
   "outputs": [],
   "source": [
    "def asterisk_test(a, args): # 별첨을 통해 unpacking 이 되게 할 수 있다.\n",
    "    print(a, *args)\n",
    "    print(type(args))"
   ]
  },
  {
   "cell_type": "code",
   "execution_count": 31,
   "metadata": {},
   "outputs": [
    {
     "name": "stdout",
     "output_type": "stream",
     "text": [
      "1 2 3 4 5 7\n",
      "<class 'tuple'>\n"
     ]
    }
   ],
   "source": [
    "asterisk_test(1,(2,3,4,5,7))"
   ]
  },
  {
   "cell_type": "code",
   "execution_count": 34,
   "metadata": {},
   "outputs": [
    {
     "name": "stdout",
     "output_type": "stream",
     "text": [
      "[1, 2] [3, 4] [5, 6]\n"
     ]
    }
   ],
   "source": [
    "a,b,c = ([1,2],[3,4],[5,6]) # 기본적인 unpacking\n",
    "print(a,b,c)"
   ]
  },
  {
   "cell_type": "code",
   "execution_count": 39,
   "metadata": {},
   "outputs": [
    {
     "name": "stdout",
     "output_type": "stream",
     "text": [
      "([1, 2], [3, 4], [5, 6])\n",
      "[1, 2] [3, 4] [5, 6]\n",
      "1 2\n"
     ]
    }
   ],
   "source": [
    "data = ([1,2],[3,4],[5,6]) # 별첨을 이용한 unpacking\n",
    "print(data)\n",
    "print(*data)\n",
    "print(*data[0])  # 인덱스로 각각의 값을 가져올 수 도 있다."
   ]
  },
  {
   "cell_type": "code",
   "execution_count": 47,
   "metadata": {},
   "outputs": [
    {
     "name": "stdout",
     "output_type": "stream",
     "text": [
      "10 1 2 3\n"
     ]
    }
   ],
   "source": [
    "def asterisk_test(a,b,c,d):\n",
    "    print(a,b,c,d)\n",
    "    \n",
    "data = {'b' : 1 , 'c' : 2 , 'd' : 3}\n",
    "asterisk_test(10, **data) # 함수에는 인자 4가지를 원하는 데 asterisk를 통해 b,c,d 값이 순서대로 들어가는 걸 볼 수 있다."
   ]
  },
  {
   "cell_type": "code",
   "execution_count": 53,
   "metadata": {},
   "outputs": [
    {
     "name": "stdout",
     "output_type": "stream",
     "text": [
      "1 3 5\n",
      "2 4 6\n",
      "(1, 3, 5)\n",
      "(2, 4, 6)\n"
     ]
    }
   ],
   "source": [
    "for a,b,c in zip([1,2],[3,4],[5,6]):\n",
    "    print(a,b,c)\n",
    "    \n",
    "for data in zip(*([1,2],[3,4],[5,6])):\n",
    "    print(data)\n",
    "    \n",
    "# 위 의 for 문은 하나씩 인자를 정해 각각 넣어주었고 아래 for 문은 각자 인자를 정하지 않고 자동으로 정해져 나오는 걸 볼 수 있다."
   ]
  },
  {
   "cell_type": "code",
   "execution_count": null,
   "metadata": {},
   "outputs": [],
   "source": []
  },
  {
   "cell_type": "code",
   "execution_count": null,
   "metadata": {},
   "outputs": [],
   "source": []
  }
 ],
 "metadata": {
  "kernelspec": {
   "display_name": "Python 3",
   "language": "python",
   "name": "python3"
  },
  "language_info": {
   "codemirror_mode": {
    "name": "ipython",
    "version": 3
   },
   "file_extension": ".py",
   "mimetype": "text/x-python",
   "name": "python",
   "nbconvert_exporter": "python",
   "pygments_lexer": "ipython3",
   "version": "3.7.5"
  }
 },
 "nbformat": 4,
 "nbformat_minor": 4
}
