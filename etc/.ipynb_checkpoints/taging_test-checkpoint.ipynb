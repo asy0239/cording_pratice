{
 "cells": [
  {
   "cell_type": "code",
   "execution_count": 114,
   "metadata": {},
   "outputs": [],
   "source": [
    "import pandas as pd\n",
    "from operator import eq\n",
    "from sklearn.model_selection import train_test_split\n",
    "import numpy as np"
   ]
  },
  {
   "cell_type": "code",
   "execution_count": 2,
   "metadata": {},
   "outputs": [],
   "source": [
    "path_tagging = 'C:/Users/sungyun/Desktop/etc/mediazen/자연어처리및분석/data/01_03_챗봇데이터.xlsx'\n",
    "path_docs = 'C:/Users/sungyun/Desktop/etc/mediazen/자연어처리및분석/data/사전.xlsx'\n",
    "tag_data = pd.read_excel(path_tagging)\n",
    "docs_Subject = pd.read_excel(path_docs, sheet_name = 'Subject')\n",
    "docs_PR = pd.read_excel(path_docs, sheet_name='PR')\n",
    "docs_Object = pd.read_excel(path_docs, sheet_name='Object')\n",
    "docs_NE = pd.read_excel(path_docs, sheet_name='NE')"
   ]
  },
  {
   "cell_type": "code",
   "execution_count": 121,
   "metadata": {},
   "outputs": [],
   "source": [
    "tag_data = tag_data.fillna('nan')"
   ]
  },
  {
   "cell_type": "code",
   "execution_count": 122,
   "metadata": {},
   "outputs": [],
   "source": [
    "test_data = tag_data[:100]\n",
    "test_sub = docs_Subject[:1000]"
   ]
  },
  {
   "cell_type": "code",
   "execution_count": 109,
   "metadata": {},
   "outputs": [
    {
     "name": "stderr",
     "output_type": "stream",
     "text": [
      "c:\\users\\sungyun\\appdata\\local\\programs\\python\\python37\\lib\\site-packages\\ipykernel_launcher.py:1: FutureWarning: get_value is deprecated and will be removed in a future release. Please use .at[] or .iat[] accessors instead\n",
      "  \"\"\"Entry point for launching an IPython kernel.\n"
     ]
    },
    {
     "data": {
      "text/plain": [
       "'가스안전기 이전 신청은 언제까지 해야 하나요'"
      ]
     },
     "execution_count": 109,
     "metadata": {},
     "output_type": "execute_result"
    }
   ],
   "source": [
    "test_data.get_value(2,'paraphrasing')"
   ]
  },
  {
   "cell_type": "code",
   "execution_count": 193,
   "metadata": {},
   "outputs": [],
   "source": [
    "# x = pd.DataFrame()\n",
    "# x = test_data[test_data.index == 12]\n",
    "y = test_data[test_data.index == 12]"
   ]
  },
  {
   "cell_type": "code",
   "execution_count": 224,
   "metadata": {},
   "outputs": [
    {
     "name": "stderr",
     "output_type": "stream",
     "text": [
      "c:\\users\\sungyun\\appdata\\local\\programs\\python\\python37\\lib\\site-packages\\ipykernel_launcher.py:8: FutureWarning: get_value is deprecated and will be removed in a future release. Please use .at[] or .iat[] accessors instead\n",
      "  \n",
      "c:\\users\\sungyun\\appdata\\local\\programs\\python\\python37\\lib\\site-packages\\ipykernel_launcher.py:11: FutureWarning: get_value is deprecated and will be removed in a future release. Please use .at[] or .iat[] accessors instead\n",
      "  # This is added back by InteractiveShellApp.init_path()\n"
     ]
    }
   ],
   "source": [
    "start = 0\n",
    "end = 0\n",
    "test_result = pd.DataFrame()\n",
    "docs_result = pd.DataFrame()\n",
    "y = []\n",
    "x = []\n",
    "for i in test_data.index:\n",
    "    test_val = test_data.get_value(i, 'paraphrasing')\n",
    "    par = test_val.replace(' ','')\n",
    "    for j in docs_Subject.index:\n",
    "        docs_val = docs_Subject.get_value(j, '단어')\n",
    "        word = str(docs_val).replace(' ','')\n",
    "        end = len(par)\n",
    "        for z in range(len(str(par))):\n",
    "            if par[start:end] == word:\n",
    "#                 print(word)\n",
    "#                 print(i,j)\n",
    "                test = test_data[test_data.index == i]\n",
    "                test_result = test_result.append(test)\n",
    "                docs = docs_Subject[docs_Subject.index == j]\n",
    "#                 print(docs_Subject[docs_Subject.index == j])\n",
    "                docs_result = test_result.append(docs)\n",
    "                x.append(i)\n",
    "                y.append(j)\n",
    "                \n",
    "            else:                \n",
    "                pass           \n",
    "            end -= 1\n",
    "#             print(end)"
   ]
  },
  {
   "cell_type": "code",
   "execution_count": 63,
   "metadata": {},
   "outputs": [
    {
     "data": {
      "text/plain": [
       "'가스안전기이전신청은언제까지해야하나요'"
      ]
     },
     "execution_count": 63,
     "metadata": {},
     "output_type": "execute_result"
    }
   ],
   "source": [
    "x = test_data[2:3]['paraphrasing']\n",
    "x = str(list(x)).replace(' ', '').replace(\"'\", '').replace(']', '').replace('[', '')\n",
    "x"
   ]
  },
  {
   "cell_type": "code",
   "execution_count": 68,
   "metadata": {},
   "outputs": [
    {
     "data": {
      "text/plain": [
       "'가스안전기이전신청은언제까지해야하나요'"
      ]
     },
     "execution_count": 68,
     "metadata": {},
     "output_type": "execute_result"
    }
   ],
   "source": [
    "str(list(x)).translate({ord('['):'', ord(']'):'', ord(\"'\"):'', ord(' '):'' })"
   ]
  },
  {
   "cell_type": "code",
   "execution_count": 87,
   "metadata": {},
   "outputs": [
    {
     "name": "stderr",
     "output_type": "stream",
     "text": [
      "c:\\users\\sungyun\\appdata\\local\\programs\\python\\python37\\lib\\site-packages\\ipykernel_launcher.py:1: FutureWarning: get_value is deprecated and will be removed in a future release. Please use .at[] or .iat[] accessors instead\n",
      "  \"\"\"Entry point for launching an IPython kernel.\n"
     ]
    }
   ],
   "source": [
    "x = tag_data.get_value(4,'paraphrasing')"
   ]
  },
  {
   "cell_type": "code",
   "execution_count": 89,
   "metadata": {},
   "outputs": [
    {
     "data": {
      "text/plain": [
       "'멀티탭이전신청은언제까지해야하나요'"
      ]
     },
     "execution_count": 89,
     "metadata": {},
     "output_type": "execute_result"
    }
   ],
   "source": [
    "x.replace(' ','')"
   ]
  }
 ],
 "metadata": {
  "kernelspec": {
   "display_name": "Python 3",
   "language": "python",
   "name": "python3"
  },
  "language_info": {
   "codemirror_mode": {
    "name": "ipython",
    "version": 3
   },
   "file_extension": ".py",
   "mimetype": "text/x-python",
   "name": "python",
   "nbconvert_exporter": "python",
   "pygments_lexer": "ipython3",
   "version": "3.7.5"
  }
 },
 "nbformat": 4,
 "nbformat_minor": 4
}
