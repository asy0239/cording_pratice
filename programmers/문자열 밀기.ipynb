{
 "cells": [
  {
   "cell_type": "code",
   "execution_count": 100,
   "metadata": {},
   "outputs": [],
   "source": [
    "from string import ascii_lowercase\n",
    "from string import ascii_uppercase\n",
    "from collections import Counter\n",
    "import collections"
   ]
  },
  {
   "cell_type": "code",
   "execution_count": 101,
   "metadata": {},
   "outputs": [],
   "source": [
    "lower = ascii_lowercase\n",
    "upper = ascii_uppercase"
   ]
  },
  {
   "cell_type": "code",
   "execution_count": 108,
   "metadata": {},
   "outputs": [],
   "source": [
    "s = 'abc'\n",
    "n = 1"
   ]
  },
  {
   "cell_type": "code",
   "execution_count": 109,
   "metadata": {},
   "outputs": [],
   "source": [
    "from string import ascii_lowercase\n",
    "from string import ascii_uppercase\n",
    "lower = ascii_lowercase\n",
    "upper = ascii_uppercase\n",
    "def solution(s, n):\n",
    "    answer = ''\n",
    "    for i in range(len(s)):\n",
    "        for j in range(len(lower)):\n",
    "            try:\n",
    "                if s[i] == lower[j]:\n",
    "                    answer += lower[j+n]\n",
    "                elif s[i] == upper[j]:\n",
    "                    answer += upper[j+n]\n",
    "                elif s[i] == ' ':\n",
    "                    answer += ''\n",
    "                else: pass\n",
    "            except IndexError:\n",
    "                if s[i] == lower[j]:\n",
    "                    answer += lower[j-26+n]\n",
    "                elif s[i] == upper[j]:\n",
    "                    answer += upper[j-26+n]\n",
    "                elif s[i] == ' ':\n",
    "                    answer += ''\n",
    "                else: pass\n",
    "                \n",
    "    \n",
    "        \n",
    "    return answer"
   ]
  },
  {
   "cell_type": "code",
   "execution_count": 110,
   "metadata": {},
   "outputs": [
    {
     "data": {
      "text/plain": [
       "'bcd'"
      ]
     },
     "execution_count": 110,
     "metadata": {},
     "output_type": "execute_result"
    }
   ],
   "source": [
    "solution(s,n)"
   ]
  },
  {
   "cell_type": "code",
   "execution_count": null,
   "metadata": {},
   "outputs": [],
   "source": []
  },
  {
   "cell_type": "code",
   "execution_count": null,
   "metadata": {},
   "outputs": [],
   "source": []
  }
 ],
 "metadata": {
  "kernelspec": {
   "display_name": "Python 3",
   "language": "python",
   "name": "python3"
  },
  "language_info": {
   "codemirror_mode": {
    "name": "ipython",
    "version": 3
   },
   "file_extension": ".py",
   "mimetype": "text/x-python",
   "name": "python",
   "nbconvert_exporter": "python",
   "pygments_lexer": "ipython3",
   "version": "3.7.4"
  }
 },
 "nbformat": 4,
 "nbformat_minor": 4
}
