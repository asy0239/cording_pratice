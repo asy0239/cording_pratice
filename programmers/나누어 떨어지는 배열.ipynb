{
 "cells": [
  {
   "cell_type": "markdown",
   "metadata": {},
   "source": [
    "# 나누어 떨어지는 숫자 배열"
   ]
  },
  {
   "cell_type": "code",
   "execution_count": 81,
   "metadata": {},
   "outputs": [],
   "source": [
    "arr = [1, 9, 7, 10, 5, 15, 50]\n",
    "divisor = 100"
   ]
  },
  {
   "cell_type": "code",
   "execution_count": 101,
   "metadata": {},
   "outputs": [],
   "source": [
    "def solution(arr, divisor):\n",
    "    lst_str = []\n",
    "    lst_int = []\n",
    "    answer = []\n",
    "\n",
    "    for i in range(len(arr)):\n",
    "        if arr[i] % divisor == 0:\n",
    "            lst_int.append(arr[i])\n",
    "        elif arr[i] % divisor != 0:\n",
    "            lst_str.append(-1)\n",
    "\n",
    "        else:\n",
    "            pass\n",
    "\n",
    "    if lst_int == []:\n",
    "        answer.append(lst_str[0])\n",
    "    else:\n",
    "        answer = lst_int\n",
    "        \n",
    "    return sorted(answer)\n",
    "\n",
    "  "
   ]
  },
  {
   "cell_type": "code",
   "execution_count": 102,
   "metadata": {},
   "outputs": [
    {
     "data": {
      "text/plain": [
       "[-1]"
      ]
     },
     "execution_count": 102,
     "metadata": {},
     "output_type": "execute_result"
    }
   ],
   "source": [
    "solution(arr , divisor)"
   ]
  },
  {
   "cell_type": "code",
   "execution_count": null,
   "metadata": {},
   "outputs": [],
   "source": [
    "def solution(arr, divisor): \n",
    "    return sorted([n for n in arr if n%divisor == 0]) or [-1]   # 수정 안"
   ]
  }
 ],
 "metadata": {
  "kernelspec": {
   "display_name": "Python 3",
   "language": "python",
   "name": "python3"
  },
  "language_info": {
   "codemirror_mode": {
    "name": "ipython",
    "version": 3
   },
   "file_extension": ".py",
   "mimetype": "text/x-python",
   "name": "python",
   "nbconvert_exporter": "python",
   "pygments_lexer": "ipython3",
   "version": "3.7.4"
  }
 },
 "nbformat": 4,
 "nbformat_minor": 4
}
