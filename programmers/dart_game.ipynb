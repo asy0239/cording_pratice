{
 "cells": [
  {
   "cell_type": "markdown",
   "metadata": {},
   "source": [
    "# 다트 게임"
   ]
  },
  {
   "cell_type": "code",
   "execution_count": 88,
   "metadata": {},
   "outputs": [],
   "source": [
    "dartresult = '1D2S#10S'\n",
    "dartresult1 = '1D2S0T'"
   ]
  },
  {
   "cell_type": "code",
   "execution_count": 94,
   "metadata": {},
   "outputs": [],
   "source": [
    "import re\n",
    "def dart(dartresult):\n",
    "    p = re.compile('(\\d+)([a-zA-Z])(\\*|#)?')\n",
    "    game = p.findall(dartresult)\n",
    "    result = []\n",
    "    for idx, score in enumerate(game):\n",
    "        point = score[0]\n",
    "        bonus = score[1]\n",
    "        option = score[2]\n",
    "        if bonus == 'S':\n",
    "            bonus = 1\n",
    "        elif bonus == 'D':\n",
    "            bonus = 2\n",
    "        else:\n",
    "            bonus = 3\n",
    "        if option == '*':\n",
    "            if idx == 0:\n",
    "                result.append(int(point)**bonus*2)\n",
    "            else:\n",
    "                result[-1]*=2\n",
    "                result.append(int(point)**bonus*2)\n",
    "        elif option == '#':\n",
    "            result.append(int(point)**bonus*-1)\n",
    "\n",
    "        else:\n",
    "            result.append(int(point)**bonus)\n",
    "    return sum(result)\n",
    "\n"
   ]
  },
  {
   "cell_type": "code",
   "execution_count": null,
   "metadata": {},
   "outputs": [],
   "source": []
  }
 ],
 "metadata": {
  "kernelspec": {
   "display_name": "Python 3",
   "language": "python",
   "name": "python3"
  },
  "language_info": {
   "codemirror_mode": {
    "name": "ipython",
    "version": 3
   },
   "file_extension": ".py",
   "mimetype": "text/x-python",
   "name": "python",
   "nbconvert_exporter": "python",
   "pygments_lexer": "ipython3",
   "version": "3.7.4"
  }
 },
 "nbformat": 4,
 "nbformat_minor": 4
}
