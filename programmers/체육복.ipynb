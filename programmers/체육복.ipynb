{
 "cells": [
  {
   "cell_type": "markdown",
   "metadata": {},
   "source": [
    "# 체육복"
   ]
  },
  {
   "cell_type": "markdown",
   "metadata": {},
   "source": [
    "lost = 체육복이 없는 list\n",
    "\n",
    "reserve = 여벌의 체육복이 있는 list\n",
    "\n",
    "n = 총 학생수"
   ]
  },
  {
   "cell_type": "code",
   "execution_count": 7,
   "metadata": {},
   "outputs": [],
   "source": [
    "n = 10\n",
    "lost = [2,4,7,5]\n",
    "reserve = [1,3,6,10]"
   ]
  },
  {
   "cell_type": "code",
   "execution_count": 8,
   "metadata": {},
   "outputs": [],
   "source": [
    "def solution(n, lost, reserve):\n",
    "    answer = 0\n",
    "    for i in range(1, n+1):\n",
    "        if i not in lost:\n",
    "            answer += 1\n",
    "        else:\n",
    "            if i in reserve:\n",
    "                answer += i\n",
    "                reserve.remove(i)\n",
    "                lost.remove(i)\n",
    "                \n",
    "    for i in lost:\n",
    "        if i-1 in reserve:\n",
    "            answer += 1\n",
    "            reserve.remove(i-1)\n",
    "            \n",
    "        elif i+1 in reserve:\n",
    "            answer += 1\n",
    "            reserve.remove(i+1)\n",
    "            \n",
    "    return answer\n",
    "            \n",
    "    "
   ]
  },
  {
   "cell_type": "code",
   "execution_count": 9,
   "metadata": {},
   "outputs": [
    {
     "data": {
      "text/plain": [
       "9"
      ]
     },
     "execution_count": 9,
     "metadata": {},
     "output_type": "execute_result"
    }
   ],
   "source": [
    "solution(n, lost, reserve)\n",
    "            \n",
    "    "
   ]
  },
  {
   "cell_type": "code",
   "execution_count": null,
   "metadata": {},
   "outputs": [],
   "source": []
  }
 ],
 "metadata": {
  "kernelspec": {
   "display_name": "Python 3",
   "language": "python",
   "name": "python3"
  },
  "language_info": {
   "codemirror_mode": {
    "name": "ipython",
    "version": 3
   },
   "file_extension": ".py",
   "mimetype": "text/x-python",
   "name": "python",
   "nbconvert_exporter": "python",
   "pygments_lexer": "ipython3",
   "version": "3.7.4"
  }
 },
 "nbformat": 4,
 "nbformat_minor": 4
}
